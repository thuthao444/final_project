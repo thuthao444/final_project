{
 "cells": [
  {
   "cell_type": "markdown",
   "metadata": {},
   "source": [
    "# Thu thập dữ liệu Facebook\n",
    "Trong sổ tay này, ta sẽ thu thập dữ liệu từ Facebook bằng API đồ thị của Facebook. Chúng tôi sẽ sử dụng facebook-scraper"
   ]
  },
  {
   "cell_type": "markdown",
   "metadata": {},
   "source": [
    "## Cài đặt thư viện cần thiết\n",
    "Ta sẽ sử dụng thư viện facebook-scraper để thu thập dữ liệu từ Facebook. Cài đặt thư viện này bằng pip."
   ]
  },
  {
   "cell_type": "code",
   "execution_count": null,
   "metadata": {},
   "outputs": [],
   "source": [
    "%pip install facebook_scraper pandas numpy"
   ]
  },
  {
   "cell_type": "code",
   "execution_count": 2,
   "metadata": {},
   "outputs": [
    {
     "name": "stderr",
     "output_type": "stream",
     "text": [
      "c:\\Users\\THAO-PC\\AppData\\Local\\Programs\\Python\\Python311\\Lib\\site-packages\\tqdm\\auto.py:21: TqdmWarning: IProgress not found. Please update jupyter and ipywidgets. See https://ipywidgets.readthedocs.io/en/stable/user_install.html\n",
      "  from .autonotebook import tqdm as notebook_tqdm\n"
     ]
    }
   ],
   "source": [
    "from facebook_scraper import get_posts\n",
    "import pandas as pd\n",
    "import numpy as np"
   ]
  },
  {
   "cell_type": "markdown",
   "metadata": {},
   "source": [
    "## Thu thập dữ liệu bằng facebook_scraper\n",
    "Bây giờ chúng ta có thể lấy dữ liệu từ Facebook bằng thư viện facebook_scraper. Ta sẽ sử dụng chức năng get_posts để lấy các bài đăng từ trang fan hâm mộ. Hàm này sẽ trả về một danh sách các từ điển, trong đó mỗi từ điển đại diện cho một bài viết. Chúng ta sẽ lưu danh sách từ điển này vào một tệp json. "
   ]
  },
  {
   "cell_type": "markdown",
   "metadata": {},
   "source": [
    "## Xác định biến\n",
    "Trước tiên, chúng ta phải xác định một số biến mà chúng ta sẽ sử dụng\n",
    "- FANPAGE_LINK: Link tới trang fan page mà chúng ta muốn thu thập dữ liệu. Điều này có thể được tìm thấy bằng cách vào trang fan hâm mộ và sao chép liên kết từ thanh địa chỉ.\n",
    "\n",
    "- COOKIE_PATH: Đường dẫn tới file cookie mà chúng ta sẽ sử dụng để xác thực với Facebook. Ở đây tôi đã sử dụng tiện ích GET COOKIE LOCALLY của Google để tiến hành lấy cookie\n",
    "\n",
    "- FOLDER_NAME: Tên của thư mục mà ta sẽ lưu dữ liệu vào. Thư mục này sẽ được tạo trong cùng thư mục với sổ ghi chép này."
   ]
  },
  {
   "cell_type": "code",
   "execution_count": null,
   "metadata": {},
   "outputs": [],
   "source": [
    "FANPAGE_LINK =\"tusachchualanh.skybooks\"\n",
    "FOLDER_PATH = \"Data/\"\n",
    "COOKIE_PATH = \"./cookies.txt\"\n",
    "\n",
    "PAGES_NUMBER = 15 # Số lượng pages sẽ lấy"
   ]
  },
  {
   "cell_type": "code",
   "execution_count": null,
   "metadata": {},
   "outputs": [],
   "source": [
    "post_list = []\n",
    "for post in get_posts(FANPAGE_LINK,\n",
    "                    options={\"comments\": True, \"reactions\": True, \"allow_extra_requests\": True},\n",
    "                    extra_info=True, pages=PAGES_NUMBER, cookies=COOKIE_PATH):\n",
    "    print(post)\n",
    "    post_list.append(post)"
   ]
  },
  {
   "cell_type": "markdown",
   "metadata": {},
   "source": []
  },
  {
   "cell_type": "markdown",
   "metadata": {},
   "source": [
    "## Chuyển đổi danh sách dict sang df"
   ]
  },
  {
   "cell_type": "markdown",
   "metadata": {},
   "source": [
    "Bây giờ chúng ta có thể chuyển đổi danh sách từ điển thành dataframe. Ta sẽ sử dụng thư viện pandas để thực hiện việc này và lưu vào tệp csv."
   ]
  },
  {
   "cell_type": "code",
   "execution_count": null,
   "metadata": {},
   "outputs": [],
   "source": [
    "# Initialize dataframe to scrape Facebook post\n",
    "post_df_full = pd.DataFrame(columns=post_list[0].keys(), index=range(len(post_list)), data=post_list)\n",
    "\n",
    "# To df\n",
    "path=FOLDER_PATH + \"tusachchualanh.csv\"\n",
    "post_df_full.to_csv(path, index=False)\n",
    "print(path)"
   ]
  },
  {
   "cell_type": "code",
   "execution_count": null,
   "metadata": {},
   "outputs": [],
   "source": [
    "post_df_full"
   ]
  }
 ],
 "metadata": {
  "kernelspec": {
   "display_name": "Python 3",
   "language": "python",
   "name": "python3"
  },
  "language_info": {
   "codemirror_mode": {
    "name": "ipython",
    "version": 3
   },
   "file_extension": ".py",
   "mimetype": "text/x-python",
   "name": "python",
   "nbconvert_exporter": "python",
   "pygments_lexer": "ipython3",
   "version": "3.11.2"
  }
 },
 "nbformat": 4,
 "nbformat_minor": 2
}
